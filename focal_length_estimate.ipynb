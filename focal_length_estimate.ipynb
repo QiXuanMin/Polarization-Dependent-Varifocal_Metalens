{
 "cells": [
  {
   "cell_type": "code",
   "execution_count": 1,
   "id": "5096276a",
   "metadata": {},
   "outputs": [],
   "source": [
    "import numpy as np\n",
    "from matplotlib import pyplot as plt\n",
    "from matplotlib import colors\n",
    "from matplotlib import cm\n",
    "from matplotlib.colors import ListedColormap, LinearSegmentedColormap\n",
    "import math"
   ]
  },
  {
   "cell_type": "code",
   "execution_count": 2,
   "id": "ba6372be",
   "metadata": {},
   "outputs": [],
   "source": [
    "# 定义超透镜规模尺寸，以及波长大小\n",
    "n=1500\n",
    "gap = 400e-9\n",
    "lambdad = 532e-9\n",
    "x=np.linspace(-n/2*gap,n/2*gap,n)\n",
    "y=np.linspace(-n/2*gap,n/2*gap,n)\n",
    "X,Y=np.meshgrid(x,y)"
   ]
  },
  {
   "cell_type": "code",
   "execution_count": 3,
   "id": "302e7601",
   "metadata": {},
   "outputs": [],
   "source": [
    "# 定义相位差函数\n",
    "def phi(x,y):\n",
    "    return -np.pi*(fv+fh)/2/lambdad/fh/fv*(x**2+y**2)\n",
    "def delta(x,y):\n",
    "    return -np.pi*(fv-fh)/2/lambdad/fh/fv*(x**2+y**2)"
   ]
  },
  {
   "cell_type": "code",
   "execution_count": 6,
   "id": "7cc67051",
   "metadata": {},
   "outputs": [
    {
     "name": "stdout",
     "output_type": "stream",
     "text": [
      "focal length is 9483.265306122448um\n"
     ]
    },
    {
     "data": {
      "image/png": "[encoded data removed]",
      "text/plain": [
       "<Figure size 432x288 with 1 Axes>"
      ]
     },
     "metadata": {
      "needs_background": "light"
     },
     "output_type": "display_data"
    }
   ],
   "source": [
    "# 角谱法\n",
    "def AS_Propagation(Uin,z,lambdad,L):\n",
    "    \n",
    "    nx = Uin.shape[0]\n",
    "    ny = Uin.shape[1]\n",
    "    x = np.linspace(-nx//2,nx//2-1,nx)\n",
    "    y = np.linspace(-ny//2,ny//2-1,ny)\n",
    "    X,Y=np.meshgrid(x,y)\n",
    "    fx = X/L\n",
    "    fy = Y/L\n",
    "    k = 2*np.pi/lambdad\n",
    "    q = fx**2 + fy**2\n",
    "    H = np.exp(1.0j*k*z*np.sqrt(1-(lambdad**2)*q))\n",
    "    O = np.fft.fftshift(np.fft.fft2(np.fft.fftshift(Uin)))\n",
    "    U = np.fft.fftshift(np.fft.ifft2(np.fft.fftshift(H*O)))\n",
    "    \n",
    "    return U\n",
    "\n",
    "# 计算超透镜衍射焦距\n",
    "fh=9500e-6 # 增大这个会使得H相位趋于平坦，反之趋于陡峭\n",
    "fv=9180e-6\n",
    "theta = np.pi*0/18\n",
    "Eout = 0.5*np.exp(1j*phi(X,Y))*(np.cos(theta)*np.exp(1j*delta(X,Y))+np.sin(theta)*np.exp(-1j*delta(X,Y)))\n",
    "zd = np.linspace(fv-100e-6,fh+100e-6,50)\n",
    "Umax =np.zeros(50)\n",
    "for i in range(50):\n",
    "    z = zd[i]\n",
    "\n",
    "    r = np.sqrt(X**2+Y**2+z**2)\n",
    "    k = 2*np.pi/lambdad\n",
    "    h = 1/(2*np.pi)*(z/r)*(1-1j*k*r)/(r**2)*np.exp(1j*k*r)\n",
    "    H = np.fft.fftshift(np.fft.fft2(np.fft.fftshift(h)))\n",
    "    O = np.fft.fftshift(np.fft.fft2(np.fft.fftshift(Eout)))\n",
    "    U = np.fft.fftshift(np.fft.ifft2(np.fft.fftshift(H*O)))\n",
    "    #U = AS_Propagation(Eout,z,lambdad,n*gap)\n",
    "    Umax[i] = np.max(np.abs(U))\n",
    "plt.plot(zd*1e6,Umax)\n",
    "max_U = 0\n",
    "for a in range(50):\n",
    "    if Umax[a]>max_U:\n",
    "        max_U = Umax[a]\n",
    "        maxindex = a\n",
    "print(\"focal length is \"+str(zd[maxindex]*1e6)+\"um\")"
   ]
  },
  {
   "cell_type": "code",
   "execution_count": null,
   "id": "0f33661b",
   "metadata": {},
   "outputs": [],
   "source": []
  },
  {
   "cell_type": "code",
   "execution_count": 10,
   "id": "71650a96",
   "metadata": {},
   "outputs": [
    {
     "name": "stdout",
     "output_type": "stream",
     "text": [
      "22.448979591837087\n"
     ]
    },
    {
     "data": {
      "image/png": "[encoded data removed]",
      "text/plain": [
       "<Figure size 432x288 with 1 Axes>"
      ]
     },
     "metadata": {
      "needs_background": "light"
     },
     "output_type": "display_data"
    }
   ],
   "source": [
    "fh=2400e-6 # 增大这个会使得H相位趋于平坦，反之趋于陡峭\n",
    "fv=2380e-6\n",
    "zd = np.linspace(fv-100e-6,fh+100e-6,50)\n",
    "td = np.linspace(0,90,10)\n",
    "Umax =np.zeros(50)\n",
    "focal_length = np.zeros(10)\n",
    "for j in range(10):\n",
    "    theta = np.pi*td[j]/180\n",
    "    Eout = 0.5*np.exp(1j*phi(X,Y))*(np.cos(theta)*np.exp(1j*delta(X,Y))+np.sin(theta)*np.exp(-1j*delta(X,Y)))\n",
    "    for i in range(50):\n",
    "        z = zd[i]\n",
    "        r = np.sqrt(X**2+Y**2+z**2)\n",
    "        k = 2*np.pi/lambdad\n",
    "        h = 1/(2*np.pi)*(z/r)*(1-1j*k*r)/(r**2)*np.exp(1j*k*r)\n",
    "        H = np.fft.fftshift(np.fft.fft2(np.fft.fftshift(h)))\n",
    "        O = np.fft.fftshift(np.fft.fft2(np.fft.fftshift(Eout)))\n",
    "        U = np.fft.fftshift(np.fft.ifft2(np.fft.fftshift(H*O)))\n",
    "        Umax[i] = np.max(np.abs(U))\n",
    "    #plt.plot(zd,Umax)\n",
    "    max_U = 0\n",
    "    for a in range(50):\n",
    "            if Umax[a]>max_U:\n",
    "                max_U = Umax[a]\n",
    "                maxindex = a\n",
    "    focal_length[j] = zd[maxindex]*1e6\n",
    "plt.plot(td,focal_length)\n",
    "print(focal_length[0]-focal_length[9])"
   ]
  },
  {
   "cell_type": "code",
   "execution_count": null,
   "id": "a700c985",
   "metadata": {},
   "outputs": [],
   "source": [
    "NA = 300/6500"
   ]
  }
 ],
 "metadata": {
  "kernelspec": {
   "display_name": "Python 3 (ipykernel)",
   "language": "python",
   "name": "python3"
  },
  "language_info": {
   "codemirror_mode": {
    "name": "ipython",
    "version": 3
   },
   "file_extension": ".py",
   "mimetype": "text/x-python",
   "name": "python",
   "nbconvert_exporter": "python",
   "pygments_lexer": "ipython3",
   "version": "3.9.12"
  }
 },
 "nbformat": 4,
 "nbformat_minor": 5
}
